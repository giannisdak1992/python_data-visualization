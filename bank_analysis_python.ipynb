{
 "cells": [
  {
   "cell_type": "code",
   "execution_count": 1,
   "id": "f2d06751",
   "metadata": {},
   "outputs": [],
   "source": [
    "import pandas as pd\n",
    "import matplotlib.pyplot as plt\n",
    "\n",
    "import seaborn as sns"
   ]
  },
  {
   "cell_type": "code",
   "execution_count": 2,
   "id": "0cac69bf",
   "metadata": {},
   "outputs": [],
   "source": [
    "df = pd.read_csv('../DATA/bank.csv')"
   ]
  },
  {
   "cell_type": "code",
   "execution_count": 3,
   "id": "f8899991",
   "metadata": {},
   "outputs": [
    {
     "data": {
      "text/html": [
       "<div>\n",
       "<style scoped>\n",
       "    .dataframe tbody tr th:only-of-type {\n",
       "        vertical-align: middle;\n",
       "    }\n",
       "\n",
       "    .dataframe tbody tr th {\n",
       "        vertical-align: top;\n",
       "    }\n",
       "\n",
       "    .dataframe thead th {\n",
       "        text-align: right;\n",
       "    }\n",
       "</style>\n",
       "<table border=\"1\" class=\"dataframe\">\n",
       "  <thead>\n",
       "    <tr style=\"text-align: right;\">\n",
       "      <th></th>\n",
       "      <th>age</th>\n",
       "      <th>job</th>\n",
       "      <th>marital</th>\n",
       "      <th>education</th>\n",
       "      <th>default</th>\n",
       "      <th>balance</th>\n",
       "      <th>housing</th>\n",
       "      <th>loan</th>\n",
       "      <th>contact</th>\n",
       "      <th>day</th>\n",
       "      <th>month</th>\n",
       "      <th>duration</th>\n",
       "      <th>campaign</th>\n",
       "      <th>pdays</th>\n",
       "      <th>previous</th>\n",
       "      <th>poutcome</th>\n",
       "      <th>y</th>\n",
       "    </tr>\n",
       "  </thead>\n",
       "  <tbody>\n",
       "    <tr>\n",
       "      <th>0</th>\n",
       "      <td>30</td>\n",
       "      <td>unemployed</td>\n",
       "      <td>married</td>\n",
       "      <td>primary</td>\n",
       "      <td>no</td>\n",
       "      <td>1787</td>\n",
       "      <td>no</td>\n",
       "      <td>no</td>\n",
       "      <td>cellular</td>\n",
       "      <td>19</td>\n",
       "      <td>oct</td>\n",
       "      <td>79</td>\n",
       "      <td>1</td>\n",
       "      <td>-1</td>\n",
       "      <td>0</td>\n",
       "      <td>unknown</td>\n",
       "      <td>no</td>\n",
       "    </tr>\n",
       "    <tr>\n",
       "      <th>1</th>\n",
       "      <td>33</td>\n",
       "      <td>services</td>\n",
       "      <td>married</td>\n",
       "      <td>secondary</td>\n",
       "      <td>no</td>\n",
       "      <td>4789</td>\n",
       "      <td>yes</td>\n",
       "      <td>yes</td>\n",
       "      <td>cellular</td>\n",
       "      <td>11</td>\n",
       "      <td>may</td>\n",
       "      <td>220</td>\n",
       "      <td>1</td>\n",
       "      <td>339</td>\n",
       "      <td>4</td>\n",
       "      <td>failure</td>\n",
       "      <td>no</td>\n",
       "    </tr>\n",
       "    <tr>\n",
       "      <th>2</th>\n",
       "      <td>35</td>\n",
       "      <td>management</td>\n",
       "      <td>single</td>\n",
       "      <td>tertiary</td>\n",
       "      <td>no</td>\n",
       "      <td>1350</td>\n",
       "      <td>yes</td>\n",
       "      <td>no</td>\n",
       "      <td>cellular</td>\n",
       "      <td>16</td>\n",
       "      <td>apr</td>\n",
       "      <td>185</td>\n",
       "      <td>1</td>\n",
       "      <td>330</td>\n",
       "      <td>1</td>\n",
       "      <td>failure</td>\n",
       "      <td>no</td>\n",
       "    </tr>\n",
       "    <tr>\n",
       "      <th>3</th>\n",
       "      <td>30</td>\n",
       "      <td>management</td>\n",
       "      <td>married</td>\n",
       "      <td>tertiary</td>\n",
       "      <td>no</td>\n",
       "      <td>1476</td>\n",
       "      <td>yes</td>\n",
       "      <td>yes</td>\n",
       "      <td>unknown</td>\n",
       "      <td>3</td>\n",
       "      <td>jun</td>\n",
       "      <td>199</td>\n",
       "      <td>4</td>\n",
       "      <td>-1</td>\n",
       "      <td>0</td>\n",
       "      <td>unknown</td>\n",
       "      <td>no</td>\n",
       "    </tr>\n",
       "    <tr>\n",
       "      <th>4</th>\n",
       "      <td>59</td>\n",
       "      <td>blue-collar</td>\n",
       "      <td>married</td>\n",
       "      <td>secondary</td>\n",
       "      <td>no</td>\n",
       "      <td>0</td>\n",
       "      <td>yes</td>\n",
       "      <td>no</td>\n",
       "      <td>unknown</td>\n",
       "      <td>5</td>\n",
       "      <td>may</td>\n",
       "      <td>226</td>\n",
       "      <td>1</td>\n",
       "      <td>-1</td>\n",
       "      <td>0</td>\n",
       "      <td>unknown</td>\n",
       "      <td>no</td>\n",
       "    </tr>\n",
       "  </tbody>\n",
       "</table>\n",
       "</div>"
      ],
      "text/plain": [
       "   age          job  marital  education default  balance housing loan  \\\n",
       "0   30   unemployed  married    primary      no     1787      no   no   \n",
       "1   33     services  married  secondary      no     4789     yes  yes   \n",
       "2   35   management   single   tertiary      no     1350     yes   no   \n",
       "3   30   management  married   tertiary      no     1476     yes  yes   \n",
       "4   59  blue-collar  married  secondary      no        0     yes   no   \n",
       "\n",
       "    contact  day month  duration  campaign  pdays  previous poutcome   y  \n",
       "0  cellular   19   oct        79         1     -1         0  unknown  no  \n",
       "1  cellular   11   may       220         1    339         4  failure  no  \n",
       "2  cellular   16   apr       185         1    330         1  failure  no  \n",
       "3   unknown    3   jun       199         4     -1         0  unknown  no  \n",
       "4   unknown    5   may       226         1     -1         0  unknown  no  "
      ]
     },
     "execution_count": 3,
     "metadata": {},
     "output_type": "execute_result"
    }
   ],
   "source": [
    "df.head()"
   ]
  },
  {
   "cell_type": "code",
   "execution_count": 13,
   "id": "8f76d8ea",
   "metadata": {},
   "outputs": [
    {
     "name": "stdout",
     "output_type": "stream",
     "text": [
      "<class 'pandas.core.frame.DataFrame'>\n",
      "RangeIndex: 4521 entries, 0 to 4520\n",
      "Data columns (total 17 columns):\n",
      " #   Column     Non-Null Count  Dtype \n",
      "---  ------     --------------  ----- \n",
      " 0   age        4521 non-null   int64 \n",
      " 1   job        4521 non-null   object\n",
      " 2   marital    4521 non-null   object\n",
      " 3   education  4521 non-null   object\n",
      " 4   default    4521 non-null   object\n",
      " 5   balance    4521 non-null   int64 \n",
      " 6   housing    4521 non-null   object\n",
      " 7   loan       4521 non-null   object\n",
      " 8   contact    4521 non-null   object\n",
      " 9   day        4521 non-null   int64 \n",
      " 10  month      4521 non-null   object\n",
      " 11  duration   4521 non-null   int64 \n",
      " 12  campaign   4521 non-null   int64 \n",
      " 13  pdays      4521 non-null   int64 \n",
      " 14  previous   4521 non-null   int64 \n",
      " 15  poutcome   4521 non-null   object\n",
      " 16  y          4521 non-null   object\n",
      "dtypes: int64(7), object(10)\n",
      "memory usage: 600.6+ KB\n"
     ]
    }
   ],
   "source": [
    "df.info()"
   ]
  },
  {
   "cell_type": "code",
   "execution_count": 74,
   "id": "01593168",
   "metadata": {},
   "outputs": [
    {
     "data": {
      "text/plain": [
       "4"
      ]
     },
     "execution_count": 74,
     "metadata": {},
     "output_type": "execute_result"
    }
   ],
   "source": [
    "df['duration'].min()"
   ]
  },
  {
   "cell_type": "code",
   "execution_count": 82,
   "id": "aee322ea",
   "metadata": {},
   "outputs": [
    {
     "data": {
      "image/png": "[encoded data removed]",
      "text/plain": [
       "<Figure size 360x360 with 1 Axes>"
      ]
     },
     "metadata": {
      "needs_background": "light"
     },
     "output_type": "display_data"
    }
   ],
   "source": [
    "sns.displot(df['age'],kde=False,bins=50,color=\"red\")\n",
    "plt.xlim(18,88)\n",
    "plt.savefig('displot.png')"
   ]
  },
  {
   "cell_type": "code",
   "execution_count": 79,
   "id": "26cc34c6",
   "metadata": {},
   "outputs": [
    {
     "data": {
      "image/png": "[encoded data removed]",
      "text/plain": [
       "<Figure size 432x288 with 1 Axes>"
      ]
     },
     "metadata": {
      "needs_background": "light"
     },
     "output_type": "display_data"
    }
   ],
   "source": [
    "sns.countplot(x='housing',data=df,hue='loan')\n",
    "plt.savefig('countplot.png')"
   ]
  },
  {
   "cell_type": "code",
   "execution_count": 83,
   "id": "bb7ddcf9",
   "metadata": {},
   "outputs": [
    {
     "data": {
      "image/png": "[encoded data removed]",
      "text/plain": [
       "<Figure size 432x288 with 1 Axes>"
      ]
     },
     "metadata": {
      "needs_background": "light"
     },
     "output_type": "display_data"
    }
   ],
   "source": [
    "sns.boxplot(x='marital',y='age',data=df,palette='cool')\n",
    "plt.savefig('boxplot.png')"
   ]
  },
  {
   "cell_type": "code",
   "execution_count": 22,
   "id": "d9fd4da9",
   "metadata": {},
   "outputs": [
    {
     "data": {
      "text/plain": [
       "array(['unemployed', 'services', 'management', 'blue-collar',\n",
       "       'self-employed', 'technician', 'entrepreneur', 'admin.', 'student',\n",
       "       'housemaid', 'retired', 'unknown'], dtype=object)"
      ]
     },
     "execution_count": 22,
     "metadata": {},
     "output_type": "execute_result"
    }
   ],
   "source": [
    "df['job'].unique()"
   ]
  },
  {
   "cell_type": "code",
   "execution_count": 81,
   "id": "825081e2",
   "metadata": {},
   "outputs": [
    {
     "data": {
      "image/png": "[encoded data removed]",
      "text/plain": [
       "<Figure size 1152x576 with 1 Axes>"
      ]
     },
     "metadata": {
      "needs_background": "light"
     },
     "output_type": "display_data"
    }
   ],
   "source": [
    "plt.figure(figsize=(16,8))\n",
    "sns.countplot(x='job',data=df,hue='loan')\n",
    "plt.savefig('countplot_2.png')"
   ]
  },
  {
   "cell_type": "code",
   "execution_count": 68,
   "id": "efbe75ce",
   "metadata": {},
   "outputs": [
    {
     "data": {
      "text/html": [
       "<div>\n",
       "<style scoped>\n",
       "    .dataframe tbody tr th:only-of-type {\n",
       "        vertical-align: middle;\n",
       "    }\n",
       "\n",
       "    .dataframe tbody tr th {\n",
       "        vertical-align: top;\n",
       "    }\n",
       "\n",
       "    .dataframe thead tr th {\n",
       "        text-align: left;\n",
       "    }\n",
       "</style>\n",
       "<table border=\"1\" class=\"dataframe\">\n",
       "  <thead>\n",
       "    <tr>\n",
       "      <th>job</th>\n",
       "      <th colspan=\"2\" halign=\"left\">admin.</th>\n",
       "      <th colspan=\"2\" halign=\"left\">blue-collar</th>\n",
       "      <th colspan=\"2\" halign=\"left\">entrepreneur</th>\n",
       "      <th colspan=\"2\" halign=\"left\">housemaid</th>\n",
       "      <th colspan=\"2\" halign=\"left\">management</th>\n",
       "      <th>...</th>\n",
       "      <th colspan=\"2\" halign=\"left\">services</th>\n",
       "      <th colspan=\"2\" halign=\"left\">student</th>\n",
       "      <th colspan=\"2\" halign=\"left\">technician</th>\n",
       "      <th colspan=\"2\" halign=\"left\">unemployed</th>\n",
       "      <th colspan=\"2\" halign=\"left\">unknown</th>\n",
       "    </tr>\n",
       "    <tr>\n",
       "      <th>loan</th>\n",
       "      <th>no</th>\n",
       "      <th>yes</th>\n",
       "      <th>no</th>\n",
       "      <th>yes</th>\n",
       "      <th>no</th>\n",
       "      <th>yes</th>\n",
       "      <th>no</th>\n",
       "      <th>yes</th>\n",
       "      <th>no</th>\n",
       "      <th>yes</th>\n",
       "      <th>...</th>\n",
       "      <th>no</th>\n",
       "      <th>yes</th>\n",
       "      <th>no</th>\n",
       "      <th>yes</th>\n",
       "      <th>no</th>\n",
       "      <th>yes</th>\n",
       "      <th>no</th>\n",
       "      <th>yes</th>\n",
       "      <th>no</th>\n",
       "      <th>yes</th>\n",
       "    </tr>\n",
       "  </thead>\n",
       "  <tbody>\n",
       "    <tr>\n",
       "      <th>age</th>\n",
       "      <td>39.726098</td>\n",
       "      <td>39.494505</td>\n",
       "      <td>40.343038</td>\n",
       "      <td>39.211538</td>\n",
       "      <td>42.409449</td>\n",
       "      <td>40.780488</td>\n",
       "      <td>47.080808</td>\n",
       "      <td>49.307692</td>\n",
       "      <td>40.451119</td>\n",
       "      <td>41.175000</td>\n",
       "      <td>...</td>\n",
       "      <td>38.396501</td>\n",
       "      <td>39.378378</td>\n",
       "      <td>26.879518</td>\n",
       "      <td>22.0</td>\n",
       "      <td>39.505393</td>\n",
       "      <td>39.277311</td>\n",
       "      <td>40.982609</td>\n",
       "      <td>40.230769</td>\n",
       "      <td>48.054054</td>\n",
       "      <td>50.0</td>\n",
       "    </tr>\n",
       "    <tr>\n",
       "      <th>balance</th>\n",
       "      <td>1312.718346</td>\n",
       "      <td>861.076923</td>\n",
       "      <td>1141.627848</td>\n",
       "      <td>799.211538</td>\n",
       "      <td>1807.141732</td>\n",
       "      <td>1143.268293</td>\n",
       "      <td>2075.888889</td>\n",
       "      <td>2144.076923</td>\n",
       "      <td>1846.382803</td>\n",
       "      <td>1204.791667</td>\n",
       "      <td>...</td>\n",
       "      <td>1206.635569</td>\n",
       "      <td>628.027027</td>\n",
       "      <td>1548.433735</td>\n",
       "      <td>1161.0</td>\n",
       "      <td>1428.388290</td>\n",
       "      <td>799.840336</td>\n",
       "      <td>1151.800000</td>\n",
       "      <td>537.615385</td>\n",
       "      <td>1533.081081</td>\n",
       "      <td>341.0</td>\n",
       "    </tr>\n",
       "    <tr>\n",
       "      <th>duration</th>\n",
       "      <td>239.377261</td>\n",
       "      <td>214.648352</td>\n",
       "      <td>274.407595</td>\n",
       "      <td>297.173077</td>\n",
       "      <td>284.944882</td>\n",
       "      <td>287.121951</td>\n",
       "      <td>300.525253</td>\n",
       "      <td>232.538462</td>\n",
       "      <td>259.738516</td>\n",
       "      <td>266.183333</td>\n",
       "      <td>...</td>\n",
       "      <td>257.259475</td>\n",
       "      <td>286.716216</td>\n",
       "      <td>250.253012</td>\n",
       "      <td>119.0</td>\n",
       "      <td>255.144838</td>\n",
       "      <td>236.000000</td>\n",
       "      <td>308.843478</td>\n",
       "      <td>234.230769</td>\n",
       "      <td>204.675676</td>\n",
       "      <td>670.0</td>\n",
       "    </tr>\n",
       "  </tbody>\n",
       "</table>\n",
       "<p>3 rows × 24 columns</p>\n",
       "</div>"
      ],
      "text/plain": [
       "job            admin.              blue-collar             entrepreneur  \\\n",
       "loan               no         yes           no         yes           no   \n",
       "age         39.726098   39.494505    40.343038   39.211538    42.409449   \n",
       "balance   1312.718346  861.076923  1141.627848  799.211538  1807.141732   \n",
       "duration   239.377261  214.648352   274.407595  297.173077   284.944882   \n",
       "\n",
       "job                      housemaid                management               \\\n",
       "loan              yes           no          yes           no          yes   \n",
       "age         40.780488    47.080808    49.307692    40.451119    41.175000   \n",
       "balance   1143.268293  2075.888889  2144.076923  1846.382803  1204.791667   \n",
       "duration   287.121951   300.525253   232.538462   259.738516   266.183333   \n",
       "\n",
       "job       ...     services                  student           technician  \\\n",
       "loan      ...           no         yes           no     yes           no   \n",
       "age       ...    38.396501   39.378378    26.879518    22.0    39.505393   \n",
       "balance   ...  1206.635569  628.027027  1548.433735  1161.0  1428.388290   \n",
       "duration  ...   257.259475  286.716216   250.253012   119.0   255.144838   \n",
       "\n",
       "job                    unemployed                  unknown         \n",
       "loan             yes           no         yes           no    yes  \n",
       "age        39.277311    40.982609   40.230769    48.054054   50.0  \n",
       "balance   799.840336  1151.800000  537.615385  1533.081081  341.0  \n",
       "duration  236.000000   308.843478  234.230769   204.675676  670.0  \n",
       "\n",
       "[3 rows x 24 columns]"
      ]
     },
     "execution_count": 68,
     "metadata": {},
     "output_type": "execute_result"
    }
   ],
   "source": [
    "df.groupby(['job','loan']).mean()[['age','balance','duration']].transpose()"
   ]
  },
  {
   "cell_type": "code",
   "execution_count": 69,
   "id": "fb0e7297",
   "metadata": {},
   "outputs": [
    {
     "data": {
      "text/html": [
       "<div>\n",
       "<style scoped>\n",
       "    .dataframe tbody tr th:only-of-type {\n",
       "        vertical-align: middle;\n",
       "    }\n",
       "\n",
       "    .dataframe tbody tr th {\n",
       "        vertical-align: top;\n",
       "    }\n",
       "\n",
       "    .dataframe thead tr th {\n",
       "        text-align: left;\n",
       "    }\n",
       "</style>\n",
       "<table border=\"1\" class=\"dataframe\">\n",
       "  <thead>\n",
       "    <tr>\n",
       "      <th>job</th>\n",
       "      <th colspan=\"2\" halign=\"left\">admin.</th>\n",
       "      <th colspan=\"2\" halign=\"left\">blue-collar</th>\n",
       "      <th colspan=\"2\" halign=\"left\">entrepreneur</th>\n",
       "      <th colspan=\"2\" halign=\"left\">housemaid</th>\n",
       "      <th colspan=\"2\" halign=\"left\">management</th>\n",
       "      <th>...</th>\n",
       "      <th colspan=\"2\" halign=\"left\">services</th>\n",
       "      <th colspan=\"2\" halign=\"left\">student</th>\n",
       "      <th colspan=\"2\" halign=\"left\">technician</th>\n",
       "      <th colspan=\"2\" halign=\"left\">unemployed</th>\n",
       "      <th colspan=\"2\" halign=\"left\">unknown</th>\n",
       "    </tr>\n",
       "    <tr>\n",
       "      <th>loan</th>\n",
       "      <th>no</th>\n",
       "      <th>yes</th>\n",
       "      <th>no</th>\n",
       "      <th>yes</th>\n",
       "      <th>no</th>\n",
       "      <th>yes</th>\n",
       "      <th>no</th>\n",
       "      <th>yes</th>\n",
       "      <th>no</th>\n",
       "      <th>yes</th>\n",
       "      <th>...</th>\n",
       "      <th>no</th>\n",
       "      <th>yes</th>\n",
       "      <th>no</th>\n",
       "      <th>yes</th>\n",
       "      <th>no</th>\n",
       "      <th>yes</th>\n",
       "      <th>no</th>\n",
       "      <th>yes</th>\n",
       "      <th>no</th>\n",
       "      <th>yes</th>\n",
       "    </tr>\n",
       "  </thead>\n",
       "  <tbody>\n",
       "    <tr>\n",
       "      <th>age</th>\n",
       "      <td>66</td>\n",
       "      <td>60</td>\n",
       "      <td>75</td>\n",
       "      <td>58</td>\n",
       "      <td>63</td>\n",
       "      <td>54</td>\n",
       "      <td>80</td>\n",
       "      <td>60</td>\n",
       "      <td>80</td>\n",
       "      <td>60</td>\n",
       "      <td>...</td>\n",
       "      <td>60</td>\n",
       "      <td>57</td>\n",
       "      <td>42</td>\n",
       "      <td>22</td>\n",
       "      <td>71</td>\n",
       "      <td>58</td>\n",
       "      <td>60</td>\n",
       "      <td>52</td>\n",
       "      <td>71</td>\n",
       "      <td>50</td>\n",
       "    </tr>\n",
       "    <tr>\n",
       "      <th>balance</th>\n",
       "      <td>22171</td>\n",
       "      <td>13229</td>\n",
       "      <td>16353</td>\n",
       "      <td>8545</td>\n",
       "      <td>42045</td>\n",
       "      <td>16874</td>\n",
       "      <td>26965</td>\n",
       "      <td>21244</td>\n",
       "      <td>27359</td>\n",
       "      <td>19447</td>\n",
       "      <td>...</td>\n",
       "      <td>26394</td>\n",
       "      <td>5673</td>\n",
       "      <td>11555</td>\n",
       "      <td>1161</td>\n",
       "      <td>27733</td>\n",
       "      <td>27069</td>\n",
       "      <td>9019</td>\n",
       "      <td>2400</td>\n",
       "      <td>7337</td>\n",
       "      <td>341</td>\n",
       "    </tr>\n",
       "    <tr>\n",
       "      <th>duration</th>\n",
       "      <td>1713</td>\n",
       "      <td>908</td>\n",
       "      <td>2456</td>\n",
       "      <td>1258</td>\n",
       "      <td>2769</td>\n",
       "      <td>1484</td>\n",
       "      <td>1558</td>\n",
       "      <td>701</td>\n",
       "      <td>2087</td>\n",
       "      <td>1689</td>\n",
       "      <td>...</td>\n",
       "      <td>1971</td>\n",
       "      <td>1532</td>\n",
       "      <td>1124</td>\n",
       "      <td>119</td>\n",
       "      <td>1994</td>\n",
       "      <td>2029</td>\n",
       "      <td>3025</td>\n",
       "      <td>670</td>\n",
       "      <td>789</td>\n",
       "      <td>670</td>\n",
       "    </tr>\n",
       "  </tbody>\n",
       "</table>\n",
       "<p>3 rows × 24 columns</p>\n",
       "</div>"
      ],
      "text/plain": [
       "job      admin.        blue-collar       entrepreneur        housemaid         \\\n",
       "loan         no    yes          no   yes           no    yes        no    yes   \n",
       "age          66     60          75    58           63     54        80     60   \n",
       "balance   22171  13229       16353  8545        42045  16874     26965  21244   \n",
       "duration   1713    908        2456  1258         2769   1484      1558    701   \n",
       "\n",
       "job      management         ... services       student       technician  \\\n",
       "loan             no    yes  ...       no   yes      no   yes         no   \n",
       "age              80     60  ...       60    57      42    22         71   \n",
       "balance       27359  19447  ...    26394  5673   11555  1161      27733   \n",
       "duration       2087   1689  ...     1971  1532    1124   119       1994   \n",
       "\n",
       "job             unemployed       unknown       \n",
       "loan        yes         no   yes      no  yes  \n",
       "age          58         60    52      71   50  \n",
       "balance   27069       9019  2400    7337  341  \n",
       "duration   2029       3025   670     789  670  \n",
       "\n",
       "[3 rows x 24 columns]"
      ]
     },
     "execution_count": 69,
     "metadata": {},
     "output_type": "execute_result"
    }
   ],
   "source": [
    "df.groupby(['job','loan']).max()[['age','balance','duration']].transpose()"
   ]
  },
  {
   "cell_type": "code",
   "execution_count": null,
   "id": "d0df5e6b",
   "metadata": {},
   "outputs": [],
   "source": []
  }
 ],
 "metadata": {
  "kernelspec": {
   "display_name": "Python 3 (ipykernel)",
   "language": "python",
   "name": "python3"
  },
  "language_info": {
   "codemirror_mode": {
    "name": "ipython",
    "version": 3
   },
   "file_extension": ".py",
   "mimetype": "text/x-python",
   "name": "python",
   "nbconvert_exporter": "python",
   "pygments_lexer": "ipython3",
   "version": "3.9.12"
  }
 },
 "nbformat": 4,
 "nbformat_minor": 5
}
